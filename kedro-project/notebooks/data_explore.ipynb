{
 "cells": [
  {
   "cell_type": "code",
   "execution_count": null,
   "metadata": {},
   "outputs": [],
   "source": [
    "# First, let's set up the environment and load the Kedro project context\n",
    "%load_ext kedro.ipython\n",
    "%reload_kedro"
   ]
  },
  {
   "cell_type": "code",
   "execution_count": 6,
   "metadata": {},
   "outputs": [],
   "source": [
    "\n",
    "import pandas as pd\n",
    "import plotly.express as px\n",
    "from dash import Dash, dcc, html\n",
    "from dash.dependencies import Input, Output"
   ]
  },
  {
   "cell_type": "code",
   "execution_count": null,
   "metadata": {},
   "outputs": [],
   "source": [
    "# Load the intermediate data from the Kedro catalog\n",
    "catalog = context.catalog"
   ]
  },
  {
   "cell_type": "code",
   "execution_count": null,
   "metadata": {},
   "outputs": [],
   "source": [
    "# Load the processed data\n",
    "ads_data = catalog.load('intermediate_ads_data')\n",
    "play_store_data = catalog.load('intermediate_play_store_data')"
   ]
  },
  {
   "cell_type": "code",
   "execution_count": null,
   "metadata": {},
   "outputs": [],
   "source": [
    "# Create a Dash application\n",
    "app = Dash(__name__)\n",
    "\n",
    "app.layout = html.Div([\n",
    "    html.H1(\"Marketing Analytics Dashboard\"),\n",
    "    dcc.Tabs([\n",
    "        dcc.Tab(label='Ad Performance Comparison', children=[\n",
    "            dcc.Graph(id='ad-performance-comparison'),\n",
    "            dcc.Dropdown(\n",
    "                id='ad-bank-dropdown',\n",
    "                options=[{'label': bank, 'value': bank} for bank in ads_data['bank'].unique()],\n",
    "                multi=True,\n",
    "                value=ads_data['bank'].unique().tolist()\n",
    "            ),\n",
    "            dcc.Slider(\n",
    "                id='ad-time-slider',\n",
    "                min=ads_data['ad_time'].min(),\n",
    "                max=ads_data['ad_time'].max(),\n",
    "                value=ads_data['ad_time'].max(),\n",
    "                marks={str(time): str(time) for time in ads_data['ad_time'].unique()}\n",
    "            )\n",
    "        ]),\n",
    "        dcc.Tab(label='Play Store Review Sentiment', children=[\n",
    "            dcc.Graph(id='play-store-sentiment'),\n",
    "            dcc.Dropdown(\n",
    "                id='review-version-dropdown',\n",
    "                options=[{'label': version, 'value': version} for version in play_store_data['version'].unique()],\n",
    "                multi=True,\n",
    "                value=play_store_data['version'].unique().tolist()\n",
    "            )\n",
    "        ]),\n",
    "        dcc.Tab(label='Impact of Ads on App Download', children=[\n",
    "            dcc.Graph(id='ad-impact-downloads'),\n",
    "            dcc.Dropdown(\n",
    "                id='ad-impact-bank-dropdown',\n",
    "                options=[{'label': bank, 'value': bank} for bank in ads_data['bank'].unique()],\n",
    "                multi=True,\n",
    "                value=ads_data['bank'].unique().tolist()\n",
    "            )\n",
    "        ]),\n",
    "        dcc.Tab(label='Impact of Ads on Telegram Subscriptions', children=[\n",
    "            dcc.Graph(id='ad-impact-telegram'),\n",
    "            dcc.Dropdown(\n",
    "                id='telegram-bank-dropdown',\n",
    "                options=[{'label': bank, 'value': bank} for bank in ads_data['bank'].unique()],\n",
    "                multi=True,\n",
    "                value=ads_data['bank'].unique().tolist()\n",
    "            )\n",
    "        ]),\n",
    "    ])\n",
    "])\n",
    "\n",
    "@app.callback(\n",
    "    Output('ad-performance-comparison', 'figure'),\n",
    "    [Input('ad-bank-dropdown', 'value'),\n",
    "     Input('ad-time-slider', 'value')]\n",
    ")\n",
    "def update_ad_performance(selected_banks, selected_time):\n",
    "    filtered_data = ads_data[(ads_data['bank'].isin(selected_banks)) & (ads_data['ad_time'] <= selected_time)]\n",
    "    fig = px.bar(filtered_data, x='bank', y='views', color='ad_type', barmode='group')\n",
    "    return fig\n",
    "\n",
    "@app.callback(\n",
    "    Output('play-store-sentiment', 'figure'),\n",
    "    [Input('review-version-dropdown', 'value')]\n",
    ")\n",
    "def update_play_store_sentiment(selected_versions):\n",
    "    filtered_data = play_store_data[play_store_data['version'].isin(selected_versions)]\n",
    "    fig = px.line(filtered_data, x='date', y='sentiment', color='version')\n",
    "    return fig\n",
    "\n",
    "@app.callback(\n",
    "    Output('ad-impact-downloads', 'figure'),\n",
    "    [Input('ad-impact-bank-dropdown', 'value')]\n",
    ")\n",
    "def update_ad_impact_downloads(selected_banks):\n",
    "    filtered_data = ads_data[ads_data['bank'].isin(selected_banks)]\n",
    "    fig = px.scatter(filtered_data, x='ad_time', y='app_downloads', color='bank', trendline='ols')\n",
    "    return fig\n",
    "\n",
    "@app.callback(\n",
    "    Output('ad-impact-telegram', 'figure'),\n",
    "    [Input('telegram-bank-dropdown', 'value')]\n",
    ")\n",
    "def update_ad_impact_telegram(selected_banks):\n",
    "    filtered_data = ads_data[ads_data['bank'].isin(selected_banks)]\n",
    "    fig = px.line(filtered_data, x='ad_time', y='telegram_subscriptions', color='bank')\n",
    "    return fig\n",
    "\n",
    "if __name__ == '__main__':\n",
    "    app.run_server(debug=True)"
   ]
  }
 ],
 "metadata": {
  "kernelspec": {
   "display_name": "venv",
   "language": "python",
   "name": "python3"
  },
  "language_info": {
   "codemirror_mode": {
    "name": "ipython",
    "version": 3
   },
   "file_extension": ".py",
   "mimetype": "text/x-python",
   "name": "python",
   "nbconvert_exporter": "python",
   "pygments_lexer": "ipython3",
   "version": "3.11.5"
  }
 },
 "nbformat": 4,
 "nbformat_minor": 2
}
